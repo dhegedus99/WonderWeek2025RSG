{
 "cells": [
  {
   "cell_type": "markdown",
   "id": "4ba1748c",
   "metadata": {},
   "source": [
    "## Near real-time SEVIRI processing scheme\n",
    "#### Wonder Week 2025"
   ]
  },
  {
   "cell_type": "markdown",
   "id": "57d4b848",
   "metadata": {},
   "source": [
    "#### 1. "
   ]
  },
  {
   "cell_type": "markdown",
   "id": "09d75a83",
   "metadata": {},
   "source": []
  }
 ],
 "metadata": {
  "language_info": {
   "name": "python"
  }
 },
 "nbformat": 4,
 "nbformat_minor": 5
}
